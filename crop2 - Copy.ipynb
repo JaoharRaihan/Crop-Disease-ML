{
 "cells": [
  {
   "cell_type": "code",
   "execution_count": 47,
   "metadata": {},
   "outputs": [
    {
     "name": "stdout",
     "output_type": "stream",
     "text": [
      "Found 1500 images belonging to 15 classes.\n",
      "Found 1484 images belonging to 15 classes.\n",
      "Epoch 1/10\n",
      "47/47 [==============================] - 503s 11s/step - loss: 2.3819 - accuracy: 0.2040 - val_loss: 1.6264 - val_accuracy: 0.4259\n",
      "Epoch 2/10\n",
      "47/47 [==============================] - 437s 9s/step - loss: 1.5230 - accuracy: 0.4620 - val_loss: 1.1553 - val_accuracy: 0.5748\n",
      "Epoch 3/10\n",
      "47/47 [==============================] - 295s 6s/step - loss: 1.1858 - accuracy: 0.5653 - val_loss: 0.7701 - val_accuracy: 0.6988\n",
      "Epoch 4/10\n",
      "47/47 [==============================] - 1344s 29s/step - loss: 0.9947 - accuracy: 0.6220 - val_loss: 0.7522 - val_accuracy: 0.7399\n",
      "Epoch 5/10\n",
      "47/47 [==============================] - 215s 5s/step - loss: 0.8887 - accuracy: 0.6627 - val_loss: 0.7654 - val_accuracy: 0.7049\n",
      "Epoch 6/10\n",
      "47/47 [==============================] - 476s 10s/step - loss: 0.7919 - accuracy: 0.7027 - val_loss: 0.9925 - val_accuracy: 0.6112\n",
      "Epoch 7/10\n",
      "47/47 [==============================] - 408s 9s/step - loss: 0.7122 - accuracy: 0.7213 - val_loss: 0.5926 - val_accuracy: 0.7554\n",
      "Epoch 8/10\n",
      "47/47 [==============================] - 822s 18s/step - loss: 0.6350 - accuracy: 0.7447 - val_loss: 0.7896 - val_accuracy: 0.7022\n",
      "Epoch 9/10\n",
      "47/47 [==============================] - 429s 9s/step - loss: 0.6162 - accuracy: 0.7527 - val_loss: 0.5917 - val_accuracy: 0.7790\n",
      "Epoch 10/10\n",
      "47/47 [==============================] - 366s 8s/step - loss: 0.5816 - accuracy: 0.7740 - val_loss: 0.7244 - val_accuracy: 0.6894\n",
      "47/47 [==============================] - 90s 2s/step - loss: 0.7244 - accuracy: 0.6894\n"
     ]
    },
    {
     "data": {
      "text/plain": [
       "[0.7243689298629761, 0.6893531084060669]"
      ]
     },
     "execution_count": 47,
     "metadata": {},
     "output_type": "execute_result"
    }
   ],
   "source": [
    "# Import necessary libraries\n",
    "import tensorflow as tf\n",
    "from tensorflow.keras.preprocessing.image import ImageDataGenerator\n",
    "\n",
    "# Define data paths\n",
    "train_path = \"CropDisease/train/\"\n",
    "valid_path = \"CropDisease/validation/\"\n",
    "\n",
    "# Define data augmentation parameters for the training dataset\n",
    "train_datagen = ImageDataGenerator(\n",
    "    rescale=1./255,\n",
    "    rotation_range=20,\n",
    "    width_shift_range=0.2,\n",
    "    height_shift_range=0.2,\n",
    "    horizontal_flip=True,\n",
    "    vertical_flip=True\n",
    ")\n",
    "\n",
    "# Define data augmentation parameters for the validation dataset\n",
    "valid_datagen = ImageDataGenerator(rescale=1./255)\n",
    "\n",
    "# Create training and validation data generators\n",
    "train_generator = train_datagen.flow_from_directory(\n",
    "    train_path,\n",
    "    target_size=(224, 224),\n",
    "    batch_size=32,\n",
    "    class_mode='categorical'\n",
    ")\n",
    "\n",
    "valid_generator = valid_datagen.flow_from_directory(\n",
    "    valid_path,\n",
    "    target_size=(224, 224),\n",
    "    batch_size=32,\n",
    "    class_mode='categorical'\n",
    ")\n",
    "\n",
    "# Define the CNN  model\n",
    "model = tf.keras.models.Sequential([\n",
    "    tf.keras.layers.Conv2D(32, (3, 3), activation='relu', input_shape=(224, 224, 3)),\n",
    "    tf.keras.layers.MaxPooling2D((2, 2)),\n",
    "    tf.keras.layers.Conv2D(64, (3, 3), activation='relu'),\n",
    "    tf.keras.layers.MaxPooling2D((2, 2)),\n",
    "    tf.keras.layers.Conv2D(128, (3, 3), activation='relu'),\n",
    "    tf.keras.layers.MaxPooling2D((2, 2)),\n",
    "    tf.keras.layers.Conv2D(256, (3, 3), activation='relu'),\n",
    "    tf.keras.layers.MaxPooling2D((2, 2)),\n",
    "    tf.keras.layers.Flatten(),\n",
    "    tf.keras.layers.Dense(512, activation='relu'),\n",
    "    tf.keras.layers.Dropout(0.5),\n",
    "    tf.keras.layers.Dense(15, activation='softmax')\n",
    "])\n",
    "\n",
    "# Compile the model\n",
    "model.compile(optimizer='adam', loss='categorical_crossentropy', metrics=['accuracy'])\n",
    "\n",
    "# Train the model\n",
    "history = model.fit(train_generator, epochs=10, validation_data=valid_generator)\n",
    "\n",
    "# Evaluate the model on the validation dataset\n",
    "model.evaluate(valid_generator)\n",
    "\n"
   ]
  },
  {
   "cell_type": "code",
   "execution_count": 50,
   "metadata": {},
   "outputs": [],
   "source": [
    "model.save(\"crop_disease_model.h5\")\n"
   ]
  },
  {
   "attachments": {},
   "cell_type": "markdown",
   "metadata": {},
   "source": [
    "Accuracy"
   ]
  },
  {
   "cell_type": "code",
   "execution_count": 52,
   "metadata": {},
   "outputs": [
    {
     "name": "stdout",
     "output_type": "stream",
     "text": [
      "149/149 [==============================] - 136s 909ms/step - loss: 2.6226 - accuracy: 0.1765\n",
      "Accuracy: 0.17654986679553986\n"
     ]
    }
   ],
   "source": [
    "# Evaluate model on validation data\n",
    "result = model.evaluate(valid_batches, verbose=1)\n",
    "print(\"Accuracy:\", result[1])"
   ]
  },
  {
   "cell_type": "code",
   "execution_count": null,
   "metadata": {},
   "outputs": [],
   "source": [
    "Adding VGG16"
   ]
  },
  {
   "cell_type": "code",
   "execution_count": 53,
   "metadata": {},
   "outputs": [
    {
     "name": "stdout",
     "output_type": "stream",
     "text": [
      "Epoch 1/10\n",
      "150/150 [==============================] - 2287s 15s/step - loss: 11.7400 - accuracy: 0.7413 - val_loss: 1.7650 - val_accuracy: 0.9292\n",
      "Epoch 2/10\n",
      "150/150 [==============================] - ETA: 0s - loss: 3.4958 - accuracy: 0.8667"
     ]
    }
   ],
   "source": [
    "from tensorflow.keras.applications import VGG16\n",
    "from tensorflow.keras.layers import Dense, Dropout, Flatten\n",
    "from tensorflow.keras.models import Model\n",
    "\n",
    "# Load the VGG16 model\n",
    "vgg = VGG16(weights='imagenet', include_top=False, input_shape=(224, 224, 3))\n",
    "\n",
    "# Freeze the weights of the pre-trained layers\n",
    "for layer in vgg.layers:\n",
    "    layer.trainable = False\n",
    "\n",
    "# Add new trainable layers\n",
    "x = Flatten()(vgg.output)\n",
    "x = Dense(512, activation='relu')(x)\n",
    "x = Dropout(0.5)(x)\n",
    "x = Dense(15, activation='softmax')(x)\n",
    "\n",
    "# Define the new model\n",
    "model = Model(inputs=vgg.input, outputs=x)\n",
    "\n",
    "# Compile the model\n",
    "model.compile(optimizer='adam', loss='categorical_crossentropy', metrics=['accuracy'])\n",
    "\n",
    "# Train the model\n",
    "history = model.fit(train_batches, validation_data=valid_batches, epochs=10, verbose=1)\n",
    "\n",
    "# Save the model\n",
    "model.save('crop_disease_vgg.h5')\n",
    "\n",
    "# Evaluate the model\n",
    "test_loss, test_acc = model.evaluate(valid_batches, verbose=1)\n",
    "print('Test accuracy:', test_acc)\n"
   ]
  },
  {
   "attachments": {},
   "cell_type": "markdown",
   "metadata": {},
   "source": [
    "ENJOY"
   ]
  },
  {
   "cell_type": "code",
   "execution_count": null,
   "metadata": {},
   "outputs": [],
   "source": [
    "from tensorflow.keras.models import Sequential, Model\n",
    "from tensorflow.keras.layers import Dense, Dropout, Flatten, Conv2D, MaxPooling2D\n",
    "from tensorflow.keras.applications import VGG16\n",
    "\n",
    "# Define the CNN model\n",
    "cnn_model = Sequential([\n",
    "    Conv2D(32, (3,3), activation='relu', padding='same', input_shape=(224,224,3)),\n",
    "    MaxPooling2D((2,2)),\n",
    "    Conv2D(64, (3,3), activation='relu', padding='same'),\n",
    "    MaxPooling2D((2,2)),\n",
    "    Conv2D(128, (3,3), activation='relu', padding='same'),\n",
    "    MaxPooling2D((2,2)),\n",
    "    Conv2D(256, (3,3), activation='relu', padding='same'),\n",
    "    MaxPooling2D((2,2)),\n",
    "    Flatten(),\n",
    "    Dense(512, activation='relu'),\n",
    "    Dropout(0.5),\n",
    "    Dense(15, activation='softmax')\n",
    "])\n",
    "\n",
    "# Load the VGG16 model\n",
    "vgg_model = VGG16(weights='imagenet', include_top=False, input_shape=(224, 224, 3))\n",
    "\n",
    "# Freeze the weights of the pre-trained layers\n",
    "for layer in vgg_model.layers:\n",
    "    layer.trainable = False\n",
    "\n",
    "# Add new trainable layers\n",
    "x = Flatten()(vgg_model.output)\n",
    "x = Dense(512, activation='relu')(x)\n",
    "x = Dropout(0.5)(x)\n",
    "x = Dense(15, activation='softmax')(x)\n",
    "\n",
    "# Define the combined model\n",
    "combined_model = Model(inputs=cnn_model.input, outputs=x)\n",
    "\n",
    "# Compile the model\n",
    "combined_model.compile(optimizer='adam', loss='categorical_crossentropy', metrics=['accuracy'])\n",
    "\n",
    "# Train the model\n",
    "history = combined_model.fit(train_batches, validation_data=valid_batches, epochs=10, verbose=1)\n",
    "\n",
    "# Save the model\n",
    "combined_model.save('crop_disease_combined.h5')\n",
    "\n",
    "# Evaluate the model\n",
    "test_loss, test_acc = combined_model.evaluate(valid_batches, verbose=1)\n",
    "print('Test accuracy:', test_acc)\n"
   ]
  }
 ],
 "metadata": {
  "kernelspec": {
   "display_name": "Python 3 (ipykernel)",
   "language": "python",
   "name": "python3"
  },
  "language_info": {
   "codemirror_mode": {
    "name": "ipython",
    "version": 3
   },
   "file_extension": ".py",
   "mimetype": "text/x-python",
   "name": "python",
   "nbconvert_exporter": "python",
   "pygments_lexer": "ipython3",
   "version": "3.11.1"
  },
  "orig_nbformat": 4
 },
 "nbformat": 4,
 "nbformat_minor": 2
}
