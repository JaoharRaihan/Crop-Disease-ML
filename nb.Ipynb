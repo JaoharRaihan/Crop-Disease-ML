{
 "cells": [
  {
   "cell_type": "code",
   "execution_count": 14,
   "metadata": {},
   "outputs": [],
   "source": [
    "import numpy as np # linear algebra\n",
    "import pandas as pd # data processing, CSV file I/O (e.g. pd.read_csv)\n",
    "\n",
    "# Input data files are available in the read-only \"../input/\" directory\n",
    "import os\n",
    "for dirname, _, filenames in os.walk('/kaggle/input'):\n",
    "    for filename in filenames:\n",
    "        #print(os.path.join(dirname, filename))\n",
    "        pass\n"
   ]
  },
  {
   "cell_type": "code",
   "execution_count": 15,
   "metadata": {},
   "outputs": [],
   "source": [
    "directory = 'CropDisease'"
   ]
  },
  {
   "cell_type": "code",
   "execution_count": 16,
   "metadata": {},
   "outputs": [
    {
     "name": "stdout",
     "output_type": "stream",
     "text": [
      "['Corn___Common_Rust', 'Corn___Gray_Leaf_Spot', 'Corn___Healthy', 'Corn___Leaf_Blight', 'Invalid', 'Potato___Early_Blight', 'Potato___Healthy', 'Potato___Late_Blight', 'Rice___Brown_Spot', 'Rice___Healthy', 'Rice___Hispa', 'Rice___Leaf_Blast', 'Wheat___Brown_Rust', 'Wheat___Healthy', 'Wheat___Yellow_Rust']\n"
     ]
    }
   ],
   "source": [
    "import os\n",
    "print(os.listdir(directory))"
   ]
  },
  {
   "cell_type": "code",
   "execution_count": 25,
   "metadata": {},
   "outputs": [],
   "source": [
    "import numpy as np\n",
    "import pandas as pd\n",
    "import matplotlib.pyplot as plt\n",
    "import os\n",
    "from tensorflow.keras.preprocessing import image_dataset_from_directory"
   ]
  },
  {
   "cell_type": "code",
   "execution_count": 26,
   "metadata": {},
   "outputs": [
    {
     "name": "stdout",
     "output_type": "stream",
     "text": [
      "Total number of class labels :\n"
     ]
    },
    {
     "data": {
      "text/plain": [
       "15"
      ]
     },
     "execution_count": 26,
     "metadata": {},
     "output_type": "execute_result"
    }
   ],
   "source": [
    "#Total class label in dataset\n",
    "print(\"Total number of class labels :\")\n",
    "len(os.listdir('CropDisease'))"
   ]
  },
  {
   "cell_type": "code",
   "execution_count": 27,
   "metadata": {},
   "outputs": [],
   "source": [
    "BATCH_SIZE = 32\n",
    "IMG_SIZE = (256, 256)"
   ]
  },
  {
   "cell_type": "code",
   "execution_count": 28,
   "metadata": {},
   "outputs": [
    {
     "name": "stdout",
     "output_type": "stream",
     "text": [
      "Found 31053 files belonging to 15 classes.\n"
     ]
    }
   ],
   "source": [
    "dataset = image_dataset_from_directory(directory,\n",
    "                                       shuffle=True,\n",
    "                                       label_mode = 'categorical',\n",
    "                                       batch_size=BATCH_SIZE,\n",
    "                                       seed = 42,\n",
    "                                       image_size=IMG_SIZE)"
   ]
  },
  {
   "cell_type": "code",
   "execution_count": 29,
   "metadata": {},
   "outputs": [
    {
     "name": "stdout",
     "output_type": "stream",
     "text": [
      "The list of all class label names:\n",
      "1.  Corn___Common_Rust\n",
      "2.  Corn___Gray_Leaf_Spot\n",
      "3.  Corn___Healthy\n",
      "4.  Corn___Leaf_Blight\n",
      "5.  Invalid\n",
      "6.  Potato___Early_Blight\n",
      "7.  Potato___Healthy\n",
      "8.  Potato___Late_Blight\n",
      "9.  Rice___Brown_Spot\n",
      "10.  Rice___Healthy\n",
      "11.  Rice___Hispa\n",
      "12.  Rice___Leaf_Blast\n",
      "13.  Wheat___Brown_Rust\n",
      "14.  Wheat___Healthy\n",
      "15.  Wheat___Yellow_Rust\n"
     ]
    }
   ],
   "source": [
    "# Printing class labels\n",
    "class_names = dataset.class_names\n",
    "num_classes = len(class_names)\n",
    "print(\"The list of all class label names:\")\n",
    "\n",
    "for i in range(1, num_classes + 1):\n",
    "    print(str(i) + \". \", class_names[i - 1])"
   ]
  }
 ],
 "metadata": {
  "kernelspec": {
   "display_name": "Python 3",
   "language": "python",
   "name": "python3"
  },
  "language_info": {
   "codemirror_mode": {
    "name": "ipython",
    "version": 3
   },
   "file_extension": ".py",
   "mimetype": "text/x-python",
   "name": "python",
   "nbconvert_exporter": "python",
   "pygments_lexer": "ipython3",
   "version": "3.11.1"
  },
  "orig_nbformat": 4,
  "vscode": {
   "interpreter": {
    "hash": "1f6a27bcfbe46a917dbd192f4a82657396dda26148bae633192e8d28c70725f1"
   }
  }
 },
 "nbformat": 4,
 "nbformat_minor": 2
}
