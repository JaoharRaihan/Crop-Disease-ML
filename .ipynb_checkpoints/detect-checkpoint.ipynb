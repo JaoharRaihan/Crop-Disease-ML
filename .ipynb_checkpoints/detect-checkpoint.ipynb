{
 "cells": [
  {
   "cell_type": "code",
   "execution_count": null,
   "metadata": {},
   "outputs": [],
   "source": [
    "import os\n",
    "import numpy as np\n",
    "import matplotlib.pyplot as plt\n",
    "import cv2\n",
    "\n",
    "# Set the path to the dataset folder\n",
    "DATASET_PATH = 'CropDisease'\n",
    "\n",
    "# Get the list of subfolders in the dataset folder\n",
    "subfolders = [f.path for f in os.scandir(DATASET_PATH) if f.is_dir()]\n",
    "\n",
    "# Create a dictionary to store the images and their labels\n",
    "data = {}\n",
    "labels = {}\n",
    "\n",
    "# Loop over each subfolder and load the images\n",
    "for i, subfolder in enumerate(subfolders):\n",
    "    images = []\n",
    "    for file in os.listdir(subfolder):\n",
    "        image_path = os.path.join(subfolder, file)\n",
    "        image = cv2.imread(image_path)\n",
    "        image = cv2.cvtColor(image, cv2.COLOR_BGR2RGB)\n",
    "        image = cv2.resize(image, (224, 224)) # resize the image to (224, 224)\n",
    "        images.append(image)\n",
    "    data[subfolder.split('/')[-1]] = images\n",
    "    labels[subfolder.split('/')[-1]] = i\n",
    "\n",
    "# Print the number of images in each category\n",
    "for label, images in data.items():\n",
    "    print(f\"{label}: {len(images)} images\")\n"
   ]
  },
  {
   "cell_type": "markdown",
   "metadata": {},
   "source": [
    "code to visualize a random sample of images from each category:"
   ]
  },
  {
   "cell_type": "code",
   "execution_count": null,
   "metadata": {},
   "outputs": [],
   "source": [
    "# Plot a random sample of images from each category\n",
    "fig, axs = plt.subplots(nrows=len(data), ncols=4, figsize=(12, 20))\n",
    "for i, (label, images) in enumerate(data.items()):\n",
    "    axs[i][0].set_ylabel(label)\n",
    "    for j in range(4):\n",
    "        axs[i][j].imshow(images[np.random.randint(len(images))])\n",
    "plt.tight_layout()\n",
    "plt.show()\n"
   ]
  },
  {
   "cell_type": "code",
   "execution_count": null,
   "metadata": {},
   "outputs": [],
   "source": [
    "# Define a function to preprocess the images\n",
    "def preprocess(images):\n",
    "    preprocessed_images = []\n",
    "    for image in images:\n",
    "        # Convert the image to grayscale\n",
    "        gray = cv2.cvtColor(image, cv2.COLOR_RGB2GRAY)\n",
    "        # Resize the image to (224, 224)\n",
    "        resized = cv2.resize(gray, (224, 224))\n",
    "        # Normalize the image\n",
    "        normalized = resized / 255.0\n",
    "        # Add a channel dimension to the image\n",
    "        reshaped = np.reshape(normalized, (224, 224, 1))\n",
    "        preprocessed_images.append(reshaped)\n",
    "    return preprocessed_images\n",
    "\n",
    "# Preprocess the images in each category\n",
    "for label, images in data.items():\n",
    "    preprocessed_images = preprocess(images)\n",
    "    data[label] = preprocessed_images\n"
   ]
  },
  {
   "cell_type": "code",
   "execution_count": null,
   "metadata": {},
   "outputs": [],
   "source": [
    "from sklearn.model_selection import train_test_split\n",
    "\n",
    "# Concatenate all the preprocessed images and their labels into arrays\n",
    "X = []\n",
    "y = []\n",
    "for label, images in data.items():\n",
    "    X.extend(images)\n",
    "    y.extend([labels[label]] * len(images))\n",
    "\n",
    "# Split the dataset into training and testing sets with a 80:20 split\n",
    "X_train, X_test, y_train, y_test = train_test_split(X, y, test_size=0.2, random_state=42)\n",
    "\n",
    "# Convert the training and testing sets to arrays\n",
    "X_train = np.array(X_train)\n",
    "X_test = np.array(X_test)\n",
    "y_train = np.array(y_train)\n",
    "y_test = np.array(y_test)\n"
   ]
  },
  {
   "cell_type": "code",
   "execution_count": null,
   "metadata": {},
   "outputs": [],
   "source": [
    "import tensorflow as tf\n",
    "from tensorflow.keras.layers import Conv2D, MaxPooling2D, Flatten, Dense, Dropout\n",
    "from tensorflow.keras.models import Sequential\n",
    "from tensorflow.keras.applications.vgg16 import VGG16\n",
    "\n",
    "# Load the VGG16 model with pre-trained weights\n",
    "base_model = VGG16(weights='imagenet', include_top=False, input_shape=(224, 224, 3))\n",
    "\n",
    "# Freeze the weights of the pre-trained layers so that they are not updated during training\n",
    "for layer in base_model.layers:\n",
    "    layer.trainable = False\n",
    "\n",
    "# Add new layers on top of the pre-trained model for our specific classification task\n",
    "model = Sequential([\n",
    "    base_model,\n",
    "    Flatten(),\n",
    "    Dense(512, activation='relu'),\n",
    "    Dropout(0.5),\n",
    "    Dense(15, activation='softmax')\n",
    "])\n",
    "\n",
    "# Compile the model with categorical cross-entropy loss and Adam optimizer\n",
    "model.compile(loss='categorical_crossentropy', optimizer='adam', metrics=['accuracy'])\n",
    "\n",
    "# Print the model summary\n",
    "model.summary()\n"
   ]
  },
  {
   "cell_type": "code",
   "execution_count": null,
   "metadata": {},
   "outputs": [],
   "source": [
    "import numpy as np\n",
    "from sklearn.metrics import accuracy_score, precision_score, recall_score, f1_score\n",
    "from tensorflow.keras.preprocessing.image import ImageDataGenerator\n",
    "\n",
    "# Set the batch size and number of epochs\n",
    "batch_size = 32\n",
    "epochs = 10\n",
    "\n",
    "# Create a data generator for the training set with data augmentation\n",
    "train_datagen = ImageDataGenerator(rescale=1./255,\n",
    "                                   rotation_range=20,\n",
    "                                   width_shift_range=0.2,\n",
    "                                   height_shift_range=0.2,\n",
    "                                   shear_range=0.2,\n",
    "                                   zoom_range=0.2,\n",
    "                                   horizontal_flip=True,\n",
    "                                   fill_mode='nearest')\n",
    "\n",
    "# Create a data generator for the testing set without data augmentation\n",
    "test_datagen = ImageDataGenerator(rescale=1./255)\n",
    "\n",
    "# Set the image size to match the input shape of the model\n",
    "img_size = (224, 224)\n",
    "\n",
    "# Load the training set and apply data augmentation\n",
    "train_generator = train_datagen.flow_from_directory('train',\n",
    "                                                    target_size=img_size,\n",
    "                                                    batch_size=batch_size,\n",
    "                                                    class_mode='categorical')\n",
    "\n",
    "# Load the testing set without data augmentation\n",
    "test_generator = test_datagen.flow_from_directory('test',\n",
    "                                                  target_size=img_size,\n",
    "                                                  batch_size=batch_size,\n",
    "                                                  class_mode='categorical')\n",
    "\n",
    "# Train the model on the training set and validate on the testing set\n",
    "history = model.fit(train_generator,\n",
    "                    epochs=epochs,\n",
    "                    validation_data=test_generator)\n",
    "\n",
    "# Evaluate the model on the testing set using accuracy, precision, recall, and F1 score metrics\n",
    "y_true = test_generator.classes\n",
    "y_pred = np.argmax(model.predict(test_generator), axis=-1)\n",
    "accuracy = accuracy_score(y_true, y_pred)\n",
    "precision = precision_score(y_true, y_pred, average='weighted')\n",
    "recall = recall_score(y_true, y_pred, average='weighted')\n",
    "f1 = f1_score(y_true, y_pred, average='weighted')\n",
    "\n",
    "# Print the evaluation metrics\n",
    "print('Accuracy:', accuracy)\n",
    "print('Precision:', precision)\n",
    "print('Recall:', recall)\n",
    "print('F1 score:', f1)\n"
   ]
  },
  {
   "cell_type": "code",
   "execution_count": null,
   "metadata": {},
   "outputs": [],
   "source": [
    "model.save('crop_disease_model.h5')"
   ]
  },
  {
   "cell_type": "markdown",
   "metadata": {},
   "source": [
    "This will save the trained model as an HDF5 file with the name \"crop_disease_model.h5\". You can load the saved model later using the load_model() function provided by TensorFlow:"
   ]
  },
  {
   "cell_type": "code",
   "execution_count": null,
   "metadata": {},
   "outputs": [],
   "source": [
    "from tensorflow.keras.models import load_model\n",
    "\n",
    "model = load_model('crop_disease_model.h5')\n"
   ]
  },
  {
   "cell_type": "code",
   "execution_count": null,
   "metadata": {},
   "outputs": [],
   "source": []
  }
 ],
 "metadata": {
  "kernelspec": {
   "display_name": "Python 3 (ipykernel)",
   "language": "python",
   "name": "python3"
  },
  "language_info": {
   "codemirror_mode": {
    "name": "ipython",
    "version": 3
   },
   "file_extension": ".py",
   "mimetype": "text/x-python",
   "name": "python",
   "nbconvert_exporter": "python",
   "pygments_lexer": "ipython3",
   "version": "3.11.1"
  }
 },
 "nbformat": 4,
 "nbformat_minor": 2
}
