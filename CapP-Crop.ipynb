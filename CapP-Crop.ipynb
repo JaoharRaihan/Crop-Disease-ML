{
 "cells": [
  {
   "cell_type": "code",
   "execution_count": null,
   "id": "b5ece4ce",
   "metadata": {},
   "outputs": [],
   "source": [
    "import numpy as np # linear algebra\n",
    "import pandas as pd # data processing, CSV file I/O (e.g. pd.read_csv)\n",
    "\n",
    "# Input data files are available in the read-only directory\n",
    "import os\n",
    "for dirname, _, filenames in os.walk('/CropDisease'):\n",
    "    for filename in filenames:\n",
    "        pass\n"
   ]
  },
  {
   "cell_type": "code",
   "execution_count": null,
   "id": "00506a23",
   "metadata": {},
   "outputs": [],
   "source": [
    "directory = 'CropDisease'"
   ]
  },
  {
   "cell_type": "code",
   "execution_count": null,
   "id": "51490e9c",
   "metadata": {},
   "outputs": [],
   "source": [
    "import os\n",
    "print(os.listdir(directory))\n",
    "#list of files and directories "
   ]
  },
  {
   "cell_type": "code",
   "execution_count": null,
   "id": "826cc3c5",
   "metadata": {},
   "outputs": [],
   "source": [
    "import numpy as np\n",
    "import pandas as pd\n",
    "import matplotlib.pyplot as plt\n",
    "import os\n",
    "from tensorflow.keras.preprocessing import image_dataset_from_directory\n",
    "#subdirectories of a main directory, with one subdirectory per class"
   ]
  },
  {
   "cell_type": "code",
   "execution_count": null,
   "id": "05771a5c",
   "metadata": {},
   "outputs": [],
   "source": [
    "#Total class label in dataset\n",
    "print(\"Total number of class labels :\")\n",
    "len(os.listdir('CropDisease'))"
   ]
  },
  {
   "cell_type": "code",
   "execution_count": null,
   "id": "c41eb90a",
   "metadata": {},
   "outputs": [],
   "source": [
    "BATCH_SIZE = 32\n",
    "IMG_SIZE = (256, 256)"
   ]
  },
  {
   "cell_type": "code",
   "execution_count": null,
   "id": "837d3ad2",
   "metadata": {},
   "outputs": [],
   "source": [
    "dataset = image_dataset_from_directory(directory,\n",
    "                                       shuffle=True,\n",
    "                                       label_mode = 'categorical',\n",
    "                                       batch_size=BATCH_SIZE,\n",
    "                                       seed = 42,\n",
    "                                       image_size=IMG_SIZE)"
   ]
  },
  {
   "cell_type": "code",
   "execution_count": null,
   "id": "b3da9a59",
   "metadata": {},
   "outputs": [],
   "source": [
    "# Printing class labels\n",
    "class_names = dataset.class_names\n",
    "num_classes = len(class_names)\n",
    "print(\"The list of all class label names:\")\n",
    "\n",
    "for i in range(1, num_classes + 1):\n",
    "    print(str(i) + \". \", class_names[i - 1])"
   ]
  },
  {
   "cell_type": "code",
   "execution_count": null,
   "id": "51aae24e",
   "metadata": {},
   "outputs": [],
   "source": [
    "category_count = []\n",
    "\n",
    "for root, dirs, files in os.walk(directory):\n",
    "    for dir_path in dirs:\n",
    "        category_count.append((dir_path, len(os.listdir(root+os.sep+dir_path))))"
   ]
  },
  {
   "cell_type": "code",
   "execution_count": null,
   "id": "82ff9e6e",
   "metadata": {},
   "outputs": [],
   "source": [
    "count_df = pd.DataFrame(category_count, columns=['Category', 'Count'])\n",
    "count_df"
   ]
  },
  {
   "cell_type": "code",
   "execution_count": null,
   "id": "54005173",
   "metadata": {},
   "outputs": [],
   "source": [
    "fig1, ax1 = plt.subplots()\n",
    "ax1.pie(count_df.Count, labels=count_df.Category, autopct='%1.1f%%',\n",
    "        shadow=True, startangle=90)\n",
    "ax1.axis('equal')  # Equal aspect ratio ensures that pie is drawn as a circle.\n",
    "plt.title('% of per class')\n",
    "plt.show()"
   ]
  },
  {
   "cell_type": "code",
   "execution_count": null,
   "id": "d5ae50cf",
   "metadata": {},
   "outputs": [],
   "source": [
    "plant_df = pd.DataFrame({'Plants': ['Corn','Rice','Potato', 'Wheat', 'Invalid'],\n",
    "                   'total_image': [14632, 2791, 8286, 3781, 1563]})\n",
    "plant_df.set_index('Plants', inplace=True)\n",
    "plant_df"
   ]
  },
  {
   "cell_type": "code",
   "execution_count": null,
   "id": "2f4f5f9e",
   "metadata": {},
   "outputs": [],
   "source": [
    "fig = plt.figure(figsize=(6,6))\n",
    "ax = plt.subplot(111)\n",
    "plant_df.total_image.plot(kind='pie', ax=ax, startangle=0, fontsize=10, autopct='%1.1f%%', title='% per plants')"
   ]
  },
  {
   "cell_type": "code",
   "execution_count": null,
   "id": "23f68d52",
   "metadata": {},
   "outputs": [],
   "source": [
    "from re import sub\n",
    "\n",
    "fig = plt.figure(figsize=(15, 15), constrained_layout=True)\n",
    "\n",
    "for images, labels in dataset.take(1):\n",
    "    for i in range(25):\n",
    "        ax = plt.subplot(5, 5, i + 1)\n",
    "        plt.imshow(images[i].numpy().astype(\"uint8\"))\n",
    "        title = sub(r\"[_]+\",\"_\",class_names[np.argmax(labels[i])])\n",
    "        plt.title(title, y=-0.1)\n",
    "        plt.axis(\"off\")\n"
   ]
  }
 ],
 "metadata": {
  "kernelspec": {
   "display_name": "Python 3 (ipykernel)",
   "language": "python",
   "name": "python3"
  },
  "language_info": {
   "codemirror_mode": {
    "name": "ipython",
    "version": 3
   },
   "file_extension": ".py",
   "mimetype": "text/x-python",
   "name": "python",
   "nbconvert_exporter": "python",
   "pygments_lexer": "ipython3",
   "version": "3.11.4"
  }
 },
 "nbformat": 4,
 "nbformat_minor": 5
}
